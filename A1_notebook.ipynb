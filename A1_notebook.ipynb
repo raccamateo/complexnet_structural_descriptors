{
 "cells": [
  {
   "cell_type": "code",
   "execution_count": 16,
   "id": "initial_id",
   "metadata": {
    "collapsed": true,
    "ExecuteTime": {
     "end_time": "2024-03-04T19:18:31.818484Z",
     "start_time": "2024-03-04T19:18:18.094424Z"
    }
   },
   "outputs": [
    {
     "name": "stdout",
     "output_type": "stream",
     "text": [
      "Requirement already satisfied: networkx in /opt/anaconda3/envs/CN_A1_RACCA/lib/python3.11/site-packages (3.2.1)\r\n",
      "Requirement already satisfied: matplotlib in /opt/anaconda3/envs/CN_A1_RACCA/lib/python3.11/site-packages (3.8.3)\r\n",
      "Requirement already satisfied: pandas in /opt/anaconda3/envs/CN_A1_RACCA/lib/python3.11/site-packages (2.2.1)\r\n",
      "Requirement already satisfied: numpy in /opt/anaconda3/envs/CN_A1_RACCA/lib/python3.11/site-packages (1.26.4)\r\n",
      "Collecting scipy\r\n",
      "  Downloading scipy-1.12.0-cp311-cp311-macosx_10_9_x86_64.whl.metadata (60 kB)\r\n",
      "\u001B[2K     \u001B[90m━━━━━━━━━━━━━━━━━━━━━━━━━━━━━━━━━━━━━━━━\u001B[0m \u001B[32m60.4/60.4 kB\u001B[0m \u001B[31m1.8 MB/s\u001B[0m eta \u001B[36m0:00:00\u001B[0m\r\n",
      "\u001B[?25hRequirement already satisfied: contourpy>=1.0.1 in /opt/anaconda3/envs/CN_A1_RACCA/lib/python3.11/site-packages (from matplotlib) (1.2.0)\r\n",
      "Requirement already satisfied: cycler>=0.10 in /opt/anaconda3/envs/CN_A1_RACCA/lib/python3.11/site-packages (from matplotlib) (0.12.1)\r\n",
      "Requirement already satisfied: fonttools>=4.22.0 in /opt/anaconda3/envs/CN_A1_RACCA/lib/python3.11/site-packages (from matplotlib) (4.49.0)\r\n",
      "Requirement already satisfied: kiwisolver>=1.3.1 in /opt/anaconda3/envs/CN_A1_RACCA/lib/python3.11/site-packages (from matplotlib) (1.4.5)\r\n",
      "Requirement already satisfied: packaging>=20.0 in /opt/anaconda3/envs/CN_A1_RACCA/lib/python3.11/site-packages (from matplotlib) (23.1)\r\n",
      "Requirement already satisfied: pillow>=8 in /opt/anaconda3/envs/CN_A1_RACCA/lib/python3.11/site-packages (from matplotlib) (10.2.0)\r\n",
      "Requirement already satisfied: pyparsing>=2.3.1 in /opt/anaconda3/envs/CN_A1_RACCA/lib/python3.11/site-packages (from matplotlib) (3.1.1)\r\n",
      "Requirement already satisfied: python-dateutil>=2.7 in /opt/anaconda3/envs/CN_A1_RACCA/lib/python3.11/site-packages (from matplotlib) (2.8.2)\r\n",
      "Requirement already satisfied: pytz>=2020.1 in /opt/anaconda3/envs/CN_A1_RACCA/lib/python3.11/site-packages (from pandas) (2023.3.post1)\r\n",
      "Requirement already satisfied: tzdata>=2022.7 in /opt/anaconda3/envs/CN_A1_RACCA/lib/python3.11/site-packages (from pandas) (2024.1)\r\n",
      "Requirement already satisfied: six>=1.5 in /opt/anaconda3/envs/CN_A1_RACCA/lib/python3.11/site-packages (from python-dateutil>=2.7->matplotlib) (1.16.0)\r\n",
      "Downloading scipy-1.12.0-cp311-cp311-macosx_10_9_x86_64.whl (38.9 MB)\r\n",
      "\u001B[2K   \u001B[90m━━━━━━━━━━━━━━━━━━━━━━━━━━━━━━━━━━━━━━━━\u001B[0m \u001B[32m38.9/38.9 MB\u001B[0m \u001B[31m7.9 MB/s\u001B[0m eta \u001B[36m0:00:00\u001B[0m00:01\u001B[0m00:01\u001B[0m\r\n",
      "\u001B[?25hInstalling collected packages: scipy\r\n",
      "Successfully installed scipy-1.12.0\r\n"
     ]
    }
   ],
   "source": [
    "# Install required dependencies\n",
    "!pip install networkx matplotlib pandas numpy scipy\n"
   ]
  },
  {
   "cell_type": "code",
   "execution_count": 13,
   "outputs": [],
   "source": [
    "# Cell 2: Define Analysis Functions\n",
    "\n",
    "# Import required libraries\n",
    "import networkx as nx\n",
    "import pandas as pd\n",
    "import numpy as np\n",
    "import os\n",
    "\n",
    "# Function to calculate network descriptors\n",
    "def calculate_network_descriptors(G):\n",
    "    # Convert multigraph to a simple graph by combining parallel edges\n",
    "    if isinstance(G, nx.MultiGraph):\n",
    "        G = nx.Graph(G)\n",
    "    \n",
    "    num_nodes = G.number_of_nodes()\n",
    "    num_edges = G.number_of_edges()\n",
    "    degrees = np.array([degree for node, degree in G.degree()])\n",
    "    min_degree = degrees.min()\n",
    "    max_degree = degrees.max()\n",
    "    avg_degree = degrees.mean()\n",
    "    avg_clustering = nx.average_clustering(G)\n",
    "    assortativity = nx.degree_assortativity_coefficient(G)\n",
    "    \n",
    "    # Check if the graph is connected before calculating average path length and diameter\n",
    "    if nx.is_connected(G):\n",
    "        avg_path_length = nx.average_shortest_path_length(G)\n",
    "        diameter = nx.diameter(G)\n",
    "    else:\n",
    "        avg_path_length = None  # Set to None if the graph is not connected\n",
    "        diameter = None\n",
    "    \n",
    "    return {\n",
    "        'Number of Nodes': num_nodes,\n",
    "        'Number of Edges': num_edges,\n",
    "        'Minimum Degree': min_degree,\n",
    "        'Maximum Degree': max_degree,\n",
    "        'Average Degree': round(avg_degree, 4),\n",
    "        'Average Clustering Coefficient': round(avg_clustering, 4),\n",
    "        'Assortativity': round(assortativity, 4),\n",
    "        'Average Path Length': round(avg_path_length, 4) if avg_path_length is not None else None,\n",
    "        'Diameter': diameter\n",
    "    }\n",
    "\n",
    "# Function to read the networks, calculate descriptors, and save the results\n",
    "def analyze_networks(project_path, results_dir):\n",
    "    # Create the results directory if it doesn't exist\n",
    "    if not os.path.exists(results_dir):\n",
    "        os.makedirs(results_dir)\n",
    "\n",
    "    network_descriptors = []\n",
    "\n",
    "    for root, dirs, files in os.walk(project_path):\n",
    "        for file in files:\n",
    "            if file.endswith('.net'):\n",
    "                network_path = os.path.join(root, file)\n",
    "                G = nx.read_pajek(network_path)\n",
    "                G = G.to_undirected()\n",
    "                G.remove_edges_from(nx.selfloop_edges(G))\n",
    "\n",
    "                # Calculate network descriptors\n",
    "                descriptors = calculate_network_descriptors(G)\n",
    "                descriptors['Network'] = os.path.relpath(network_path, project_path)\n",
    "                network_descriptors.append(descriptors)\n",
    "\n",
    "    # Convert the results to a DataFrame and save as a CSV file\n",
    "    descriptors_df = pd.DataFrame(network_descriptors)\n",
    "    descriptors_df.to_csv(os.path.join(results_dir, 'network_descriptors.csv'), index=False)\n",
    "\n",
    "    print(f'Network descriptors have been saved in {results_dir}')"
   ],
   "metadata": {
    "collapsed": false,
    "ExecuteTime": {
     "end_time": "2024-03-04T18:47:05.484233Z",
     "start_time": "2024-03-04T18:47:05.481342Z"
    }
   },
   "id": "209af4c3d92d141f"
  },
  {
   "cell_type": "code",
   "execution_count": 14,
   "outputs": [
    {
     "name": "stdout",
     "output_type": "stream",
     "text": [
      "Network descriptors and histograms have been saved in /Users/mwr/Downloads/CN_A1_RACCA_Results\n"
     ]
    }
   ],
   "source": [
    "# Cell 3: Set Paths and Run Analysis\n",
    "\n",
    "# Path to the local project directory\n",
    "project_path = '/Users/mwr/Downloads/CN_A1_RACCA'\n",
    "\n",
    "# Directory to save the results\n",
    "results_dir = '/Users/mwr/Downloads/CN_A1_RACCA_Results'\n",
    "\n",
    "# Perform the network analysis\n",
    "main(project_path, results_dir)\n"
   ],
   "metadata": {
    "collapsed": false,
    "ExecuteTime": {
     "end_time": "2024-03-04T18:50:22.486659Z",
     "start_time": "2024-03-04T18:47:06.220401Z"
    }
   },
   "id": "1d237ccdb6a8d6e"
  },
  {
   "cell_type": "code",
   "execution_count": 18,
   "outputs": [],
   "source": [
    "# Cell 4: task 2 working with airports_UW.net\n",
    "\n",
    "# Load the network\n",
    "network_path = '/Users/mwr/Downloads/CN_A1_RACCA/real/airports_UW.net'\n",
    "# Read the network\n",
    "G = nx.read_pajek(network_path)\n",
    "# Convert the multigraph to a simple graph\n",
    "G = nx.Graph(G)\n",
    "\n",
    "# Initialize dictionaries to store the descriptors\n",
    "# The keys will be the airport codes and the values will be the descriptors\n",
    "# We'll use the degree, strength, clustering coefficient, betweenness, eigenvector centrality, and PageRank\n",
    "degree_dict = dict(G.degree())\n",
    "strength_dict = dict(G.degree(weight='weight'))\n",
    "clustering_dict = nx.clustering(G)\n",
    "betweenness_dict = nx.betweenness_centrality(G)\n",
    "eigenvector_dict = nx.eigenvector_centrality(G)\n",
    "pagerank_dict = nx.pagerank(G)\n",
    "\n",
    "# For average and maximum path length, we need to consider each node\n",
    "avg_path_length_dict = {}\n",
    "max_path_length_dict = {}\n",
    "\n",
    "for node in G.nodes:\n",
    "    # Calculate shortest paths from this node to all others\n",
    "    path_lengths = nx.single_source_shortest_path_length(G, node)\n",
    "    # Calculate the average and maximum path lengths\n",
    "    avg_path_length_dict[node] = sum(path_lengths.values()) / len(path_lengths)\n",
    "    max_path_length_dict[node] = max(path_lengths.values())\n",
    "\n",
    "# Create a DataFrame from the dictionaries\n",
    "nodes_df = pd.DataFrame({\n",
    "    'Airport': G.nodes(),\n",
    "    'Degree': pd.Series(degree_dict),\n",
    "    'Strength': pd.Series(strength_dict),\n",
    "    'Clustering Coefficient': pd.Series(clustering_dict),\n",
    "    'Average Path Length': pd.Series(avg_path_length_dict),\n",
    "    'Maximum Path Length': pd.Series(max_path_length_dict),\n",
    "    'Betweenness': pd.Series(betweenness_dict),\n",
    "    'Eigenvector Centrality': pd.Series(eigenvector_dict),\n",
    "    'PageRank': pd.Series(pagerank_dict)\n",
    "})\n",
    "\n",
    "# Format the DataFrame to use 8 decimal places for non-integer descriptors\n",
    "nodes_df['Clustering Coefficient'] = nodes_df['Clustering Coefficient'].map(lambda x: f'{x:.8f}')\n",
    "nodes_df['Average Path Length'] = nodes_df['Average Path Length'].map(lambda x: f'{x:.8f}')\n",
    "nodes_df['Betweenness'] = nodes_df['Betweenness'].map(lambda x: f'{x:.8f}')\n",
    "nodes_df['Eigenvector Centrality'] = nodes_df['Eigenvector Centrality'].map(lambda x: f'{x:.8f}')\n",
    "nodes_df['PageRank'] = nodes_df['PageRank'].map(lambda x: f'{x:.8f}')\n",
    "\n",
    "# Save the DataFrame to a CSV file\n",
    "nodes_df.to_csv('/Users/mwr/Downloads/CN_A1_RACCA_Results/airports_node_descriptors.csv', index=False)\n",
    "\n",
    "# Display the DataFrame for the specified airports\n",
    "specific_airports = ['PAR', 'LON', 'FRA', 'AMS', 'CHI', 'NYC', 'ATL', 'HOU', \n",
    "                     'BCN', 'WAW', 'CHC', 'DJE', 'ADA', 'AGU', 'TBO', 'ZVA']\n",
    "\n",
    "# Filter the DataFrame to include only the specified airports\n",
    "specific_nodes_df = nodes_df[nodes_df['Airport'].isin(specific_airports)]\n",
    "\n",
    "\n",
    "# Save the filtered DataFrame to a CSV file\n",
    "specific_nodes_df.to_csv('/Users/mwr/Downloads/CN_A1_RACCA_Results/specific_airports_node_descriptors.csv', index=False)\n"
   ],
   "metadata": {
    "collapsed": false,
    "ExecuteTime": {
     "end_time": "2024-03-04T19:26:35.302192Z",
     "start_time": "2024-03-04T19:25:49.128323Z"
    }
   },
   "id": "83fa932dd6727929"
  },
  {
   "cell_type": "code",
   "execution_count": 20,
   "outputs": [
    {
     "data": {
      "text/plain": "    Airport  Degree   Strength Clustering Coefficient Average Path Length  \\\nADA     ADA       7    10704.0             0.71428571          3.63239359   \nAGU     AGU       7     7678.0             0.76190476          3.66445550   \nAMS     AMS     192   481335.0             0.14283377          2.73134328   \nATL     ATL     172  1129605.0             0.13783490          2.91542289   \nBCN     BCN      80   289105.0             0.32848101          3.27307905   \nCHC     CHC      20    64158.5             0.25263158          3.56522941   \nCHI     CHI     184  1329505.0             0.13417676          2.80790492   \nDJE     DJE      20    10198.5             0.70000000          3.57822001   \nFRA     FRA     237   697513.5             0.11696346          2.68214483   \nHOU     HOU     144   654154.5             0.16336441          2.98313986   \nLON     LON     242  1464828.0             0.11234183          2.63515755   \nNYC     NYC     179  1524349.5             0.15755445          2.70840243   \nPAR     PAR     250  1023424.5             0.08915663          2.68767275   \nTBO     TBO       2      234.0             1.00000000          4.58319514   \nWAW     WAW      55    86836.5             0.45858586          3.24350470   \nZVA     ZVA       1       19.0             0.00000000          7.57517966   \n\n     Maximum Path Length Betweenness Eigenvector Centrality    PageRank  \nADA                   11  0.00001317             0.01068776  0.00020485  \nAGU                   11  0.00000576             0.00513412  0.00011933  \nAMS                   10  0.04049213             0.17145160  0.00538375  \nATL                   11  0.02489618             0.12207139  0.00860287  \nBCN                   11  0.00193230             0.08914620  0.00281650  \nCHC                   10  0.00336745             0.00418781  0.00161537  \nCHI                   11  0.04444350             0.13810203  0.01017965  \nDJE                   11  0.00014586             0.03183126  0.00018064  \nFRA                   10  0.06557771             0.19554603  0.00770430  \nHOU                   11  0.01745704             0.09628632  0.00516273  \nLON                   10  0.08498898             0.20037151  0.01560551  \nNYC                   11  0.06928349             0.16058354  0.01247061  \nPAR                   10  0.09342038             0.18028732  0.01272929  \nTBO                   12  0.00000000             0.00012303  0.00007989  \nWAW                   11  0.00155695             0.07519898  0.00111978  \nZVA                   15  0.00000000             0.00000000  0.00009497  ",
      "text/html": "<div>\n<style scoped>\n    .dataframe tbody tr th:only-of-type {\n        vertical-align: middle;\n    }\n\n    .dataframe tbody tr th {\n        vertical-align: top;\n    }\n\n    .dataframe thead th {\n        text-align: right;\n    }\n</style>\n<table border=\"1\" class=\"dataframe\">\n  <thead>\n    <tr style=\"text-align: right;\">\n      <th></th>\n      <th>Airport</th>\n      <th>Degree</th>\n      <th>Strength</th>\n      <th>Clustering Coefficient</th>\n      <th>Average Path Length</th>\n      <th>Maximum Path Length</th>\n      <th>Betweenness</th>\n      <th>Eigenvector Centrality</th>\n      <th>PageRank</th>\n    </tr>\n  </thead>\n  <tbody>\n    <tr>\n      <th>ADA</th>\n      <td>ADA</td>\n      <td>7</td>\n      <td>10704.0</td>\n      <td>0.71428571</td>\n      <td>3.63239359</td>\n      <td>11</td>\n      <td>0.00001317</td>\n      <td>0.01068776</td>\n      <td>0.00020485</td>\n    </tr>\n    <tr>\n      <th>AGU</th>\n      <td>AGU</td>\n      <td>7</td>\n      <td>7678.0</td>\n      <td>0.76190476</td>\n      <td>3.66445550</td>\n      <td>11</td>\n      <td>0.00000576</td>\n      <td>0.00513412</td>\n      <td>0.00011933</td>\n    </tr>\n    <tr>\n      <th>AMS</th>\n      <td>AMS</td>\n      <td>192</td>\n      <td>481335.0</td>\n      <td>0.14283377</td>\n      <td>2.73134328</td>\n      <td>10</td>\n      <td>0.04049213</td>\n      <td>0.17145160</td>\n      <td>0.00538375</td>\n    </tr>\n    <tr>\n      <th>ATL</th>\n      <td>ATL</td>\n      <td>172</td>\n      <td>1129605.0</td>\n      <td>0.13783490</td>\n      <td>2.91542289</td>\n      <td>11</td>\n      <td>0.02489618</td>\n      <td>0.12207139</td>\n      <td>0.00860287</td>\n    </tr>\n    <tr>\n      <th>BCN</th>\n      <td>BCN</td>\n      <td>80</td>\n      <td>289105.0</td>\n      <td>0.32848101</td>\n      <td>3.27307905</td>\n      <td>11</td>\n      <td>0.00193230</td>\n      <td>0.08914620</td>\n      <td>0.00281650</td>\n    </tr>\n    <tr>\n      <th>CHC</th>\n      <td>CHC</td>\n      <td>20</td>\n      <td>64158.5</td>\n      <td>0.25263158</td>\n      <td>3.56522941</td>\n      <td>10</td>\n      <td>0.00336745</td>\n      <td>0.00418781</td>\n      <td>0.00161537</td>\n    </tr>\n    <tr>\n      <th>CHI</th>\n      <td>CHI</td>\n      <td>184</td>\n      <td>1329505.0</td>\n      <td>0.13417676</td>\n      <td>2.80790492</td>\n      <td>11</td>\n      <td>0.04444350</td>\n      <td>0.13810203</td>\n      <td>0.01017965</td>\n    </tr>\n    <tr>\n      <th>DJE</th>\n      <td>DJE</td>\n      <td>20</td>\n      <td>10198.5</td>\n      <td>0.70000000</td>\n      <td>3.57822001</td>\n      <td>11</td>\n      <td>0.00014586</td>\n      <td>0.03183126</td>\n      <td>0.00018064</td>\n    </tr>\n    <tr>\n      <th>FRA</th>\n      <td>FRA</td>\n      <td>237</td>\n      <td>697513.5</td>\n      <td>0.11696346</td>\n      <td>2.68214483</td>\n      <td>10</td>\n      <td>0.06557771</td>\n      <td>0.19554603</td>\n      <td>0.00770430</td>\n    </tr>\n    <tr>\n      <th>HOU</th>\n      <td>HOU</td>\n      <td>144</td>\n      <td>654154.5</td>\n      <td>0.16336441</td>\n      <td>2.98313986</td>\n      <td>11</td>\n      <td>0.01745704</td>\n      <td>0.09628632</td>\n      <td>0.00516273</td>\n    </tr>\n    <tr>\n      <th>LON</th>\n      <td>LON</td>\n      <td>242</td>\n      <td>1464828.0</td>\n      <td>0.11234183</td>\n      <td>2.63515755</td>\n      <td>10</td>\n      <td>0.08498898</td>\n      <td>0.20037151</td>\n      <td>0.01560551</td>\n    </tr>\n    <tr>\n      <th>NYC</th>\n      <td>NYC</td>\n      <td>179</td>\n      <td>1524349.5</td>\n      <td>0.15755445</td>\n      <td>2.70840243</td>\n      <td>11</td>\n      <td>0.06928349</td>\n      <td>0.16058354</td>\n      <td>0.01247061</td>\n    </tr>\n    <tr>\n      <th>PAR</th>\n      <td>PAR</td>\n      <td>250</td>\n      <td>1023424.5</td>\n      <td>0.08915663</td>\n      <td>2.68767275</td>\n      <td>10</td>\n      <td>0.09342038</td>\n      <td>0.18028732</td>\n      <td>0.01272929</td>\n    </tr>\n    <tr>\n      <th>TBO</th>\n      <td>TBO</td>\n      <td>2</td>\n      <td>234.0</td>\n      <td>1.00000000</td>\n      <td>4.58319514</td>\n      <td>12</td>\n      <td>0.00000000</td>\n      <td>0.00012303</td>\n      <td>0.00007989</td>\n    </tr>\n    <tr>\n      <th>WAW</th>\n      <td>WAW</td>\n      <td>55</td>\n      <td>86836.5</td>\n      <td>0.45858586</td>\n      <td>3.24350470</td>\n      <td>11</td>\n      <td>0.00155695</td>\n      <td>0.07519898</td>\n      <td>0.00111978</td>\n    </tr>\n    <tr>\n      <th>ZVA</th>\n      <td>ZVA</td>\n      <td>1</td>\n      <td>19.0</td>\n      <td>0.00000000</td>\n      <td>7.57517966</td>\n      <td>15</td>\n      <td>0.00000000</td>\n      <td>0.00000000</td>\n      <td>0.00009497</td>\n    </tr>\n  </tbody>\n</table>\n</div>"
     },
     "execution_count": 20,
     "metadata": {},
     "output_type": "execute_result"
    }
   ],
   "source": [
    "# Display the filtered DataFrame\n",
    "specific_nodes_df"
   ],
   "metadata": {
    "collapsed": false,
    "ExecuteTime": {
     "end_time": "2024-03-04T19:28:00.574547Z",
     "start_time": "2024-03-04T19:28:00.568069Z"
    }
   },
   "id": "8538a9f082ad82ff"
  },
  {
   "cell_type": "code",
   "execution_count": null,
   "outputs": [],
   "source": [],
   "metadata": {
    "collapsed": false
   },
   "id": "fe6a3472c1737308"
  }
 ],
 "metadata": {
  "kernelspec": {
   "display_name": "Python 3",
   "language": "python",
   "name": "python3"
  },
  "language_info": {
   "codemirror_mode": {
    "name": "ipython",
    "version": 2
   },
   "file_extension": ".py",
   "mimetype": "text/x-python",
   "name": "python",
   "nbconvert_exporter": "python",
   "pygments_lexer": "ipython2",
   "version": "2.7.6"
  }
 },
 "nbformat": 4,
 "nbformat_minor": 5
}
